{
 "cells": [
  {
   "cell_type": "code",
   "execution_count": 51,
   "metadata": {},
   "outputs": [
    {
     "data": {
      "text/plain": [
       "'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'"
      ]
     },
     "execution_count": 51,
     "metadata": {},
     "output_type": "execute_result"
    }
   ],
   "source": [
    "import os \n",
    "from dotenv import load_dotenv\n",
    "\n",
    "groq_api_key = os.getenv('GROQ_API_KEY')\n",
    "\n",
    "groq_api_key"
   ]
  },
  {
   "cell_type": "code",
   "execution_count": 52,
   "metadata": {},
   "outputs": [
    {
     "data": {
      "text/plain": [
       "ChatGroq(client=<groq.resources.chat.completions.Completions object at 0x000001608DBB2A70>, async_client=<groq.resources.chat.completions.AsyncCompletions object at 0x000001608DBB2F50>, model_name='Gemma2-9b-it')"
      ]
     },
     "execution_count": 52,
     "metadata": {},
     "output_type": "execute_result"
    }
   ],
   "source": [
    "from langchain_groq import ChatGroq\n",
    "model = ChatGroq(model=\"Gemma2-9b-it\" , groq_api_key = groq_api_key)\n",
    "\n",
    "model\n"
   ]
  },
  {
   "cell_type": "code",
   "execution_count": 53,
   "metadata": {},
   "outputs": [
    {
     "data": {
      "text/plain": [
       "AIMessage(content=\"GOMYCODE is a pan-African tech ecosystem that focuses on **digital skills development and job creation**.  \\n\\nHere's a breakdown of what they do:\\n\\n* **Coding Bootcamps:** They offer intensive coding bootcamps across various tech disciplines, equipping individuals with the practical skills needed for tech careers.\\n* **Online Learning Platform:** GOMYCODE's online learning platform provides accessible and affordable tech education to a wider audience, regardless of location.\\n* **Tech Entrepreneurship Support:** They support aspiring tech entrepreneurs through mentorship, incubation programs, and access to funding opportunities.\\n* **Community Building:** GOMYCODE fosters a strong community of learners, developers, and tech enthusiasts across Africa.\\n\\nEssentially, GOMYCODE aims to empower individuals through tech education, contribute to Africa's digital transformation, and create a thriving tech ecosystem on the continent.\\n\\nYou can learn more about them on their website: [https://gomycode.com/](https://gomycode.com/)\\n\", response_metadata={'token_usage': {'completion_tokens': 208, 'prompt_tokens': 15, 'total_tokens': 223, 'completion_time': 0.378181818, 'prompt_time': 7.942e-05, 'queue_time': 0.013402018, 'total_time': 0.378261238}, 'model_name': 'Gemma2-9b-it', 'system_fingerprint': 'fp_10c08bf97d', 'finish_reason': 'stop', 'logprobs': None}, id='run-b6d07839-fe13-413a-ab9d-ba3787bf971c-0', usage_metadata={'input_tokens': 15, 'output_tokens': 208, 'total_tokens': 223})"
      ]
     },
     "execution_count": 53,
     "metadata": {},
     "output_type": "execute_result"
    }
   ],
   "source": [
    "result = model.invoke('Who are GOMYCODE')\n",
    "result"
   ]
  },
  {
   "cell_type": "code",
   "execution_count": 54,
   "metadata": {},
   "outputs": [
    {
     "data": {
      "text/markdown": [
       "GOMYCODE is a pan-African tech ecosystem that focuses on **digital skills development and job creation**.  \n",
       "\n",
       "Here's a breakdown of what they do:\n",
       "\n",
       "* **Coding Bootcamps:** They offer intensive coding bootcamps across various tech disciplines, equipping individuals with the practical skills needed for tech careers.\n",
       "* **Online Learning Platform:** GOMYCODE's online learning platform provides accessible and affordable tech education to a wider audience, regardless of location.\n",
       "* **Tech Entrepreneurship Support:** They support aspiring tech entrepreneurs through mentorship, incubation programs, and access to funding opportunities.\n",
       "* **Community Building:** GOMYCODE fosters a strong community of learners, developers, and tech enthusiasts across Africa.\n",
       "\n",
       "Essentially, GOMYCODE aims to empower individuals through tech education, contribute to Africa's digital transformation, and create a thriving tech ecosystem on the continent.\n",
       "\n",
       "You can learn more about them on their website: [https://gomycode.com/](https://gomycode.com/)\n"
      ],
      "text/plain": [
       "<IPython.core.display.Markdown object>"
      ]
     },
     "execution_count": 54,
     "metadata": {},
     "output_type": "execute_result"
    }
   ],
   "source": [
    "from IPython.display import Markdown\n",
    "Markdown(result.content)"
   ]
  },
  {
   "cell_type": "code",
   "execution_count": 31,
   "metadata": {},
   "outputs": [],
   "source": [
    "from langchain_core.messages import HumanMessage, SystemMessage\n",
    "\n",
    "messages = [\n",
    "    SystemMessage(content=\"Translate the following from english to French\"),\n",
    "    HumanMessage(content=\"Hello How are you?\")\n",
    "]\n",
    "\n",
    "\n",
    "result = model.invoke(messages)\n"
   ]
  },
  {
   "cell_type": "code",
   "execution_count": 32,
   "metadata": {},
   "outputs": [
    {
     "data": {
      "text/plain": [
       "AIMessage(content='Here are a few ways to say \"Hello, how are you?\" in French:\\n\\n* **Bonjour, comment allez-vous ?** (Formal)\\n* **Salut, comment vas-tu ?** (Informal, to someone you know well)\\n* **Coucou, ça va ?** (Very informal, to someone you\\'re close to)\\n\\n\\nLet me know if you\\'d like to see more options or variations!\\n', response_metadata={'token_usage': {'completion_tokens': 91, 'prompt_tokens': 21, 'total_tokens': 112, 'completion_time': 0.165454545, 'prompt_time': 0.00014764, 'queue_time': 0.014216050000000001, 'total_time': 0.165602185}, 'model_name': 'Gemma2-9b-it', 'system_fingerprint': 'fp_10c08bf97d', 'finish_reason': 'stop', 'logprobs': None}, id='run-ad4ac2bc-e961-4d7b-b56d-a591c045ceb0-0', usage_metadata={'input_tokens': 21, 'output_tokens': 91, 'total_tokens': 112})"
      ]
     },
     "execution_count": 32,
     "metadata": {},
     "output_type": "execute_result"
    }
   ],
   "source": [
    "result "
   ]
  },
  {
   "cell_type": "code",
   "execution_count": 33,
   "metadata": {},
   "outputs": [
    {
     "data": {
      "text/plain": [
       "'Here are a few ways to say \"Hello, how are you?\" in French:\\n\\n* **Bonjour, comment allez-vous ?** (Formal)\\n* **Salut, comment vas-tu ?** (Informal, to someone you know well)\\n* **Coucou, ça va ?** (Very informal, to someone you\\'re close to)\\n\\n\\nLet me know if you\\'d like to see more options or variations!\\n'"
      ]
     },
     "execution_count": 33,
     "metadata": {},
     "output_type": "execute_result"
    }
   ],
   "source": [
    "from langchain_core.output_parsers import StrOutputParser\n",
    "parser = StrOutputParser()\n",
    "\n",
    "parser.invoke(result)"
   ]
  },
  {
   "cell_type": "code",
   "execution_count": 34,
   "metadata": {},
   "outputs": [
    {
     "data": {
      "text/markdown": [
       "Here are a few ways to say \"Hello, how are you?\" in French:\n",
       "\n",
       "* **Bonjour, comment allez-vous ?** (Formal)\n",
       "* **Salut, comment vas-tu ?** (Informal, to someone you know well)\n",
       "* **Coucou, ça va ?** (Very informal, to someone you're close to)\n",
       "\n",
       "\n",
       "Let me know if you'd like to see more options or variations!\n"
      ],
      "text/plain": [
       "<IPython.core.display.Markdown object>"
      ]
     },
     "execution_count": 34,
     "metadata": {},
     "output_type": "execute_result"
    }
   ],
   "source": [
    "Markdown(result.content)"
   ]
  },
  {
   "cell_type": "code",
   "execution_count": 35,
   "metadata": {},
   "outputs": [
    {
     "data": {
      "text/plain": [
       "'Here are a couple of ways to say \"Hello, how are you?\" in French:\\n\\n* **Bonjour, comment allez-vous ?** (Formal)\\n* **Salut, comment vas-tu ?** (Informal) \\n\\n\\nLet me know if you\\'d like to see other variations!\\n'"
      ]
     },
     "execution_count": 35,
     "metadata": {},
     "output_type": "execute_result"
    }
   ],
   "source": [
    "chain = model|parser\n",
    "\n",
    "chain.invoke(messages)"
   ]
  },
  {
   "cell_type": "code",
   "execution_count": 36,
   "metadata": {},
   "outputs": [],
   "source": [
    "from langchain_core.prompts import ChatPromptTemplate\n",
    "\n",
    "generic_template = \"Translate the following into {language}\"\n",
    "\n",
    "prompt = ChatPromptTemplate.from_messages([\n",
    "    ('system',generic_template),\n",
    "    ('user', '{text}')\n",
    "]\n",
    ")"
   ]
  },
  {
   "cell_type": "code",
   "execution_count": 39,
   "metadata": {},
   "outputs": [],
   "source": [
    "result = prompt.invoke({\"language\":'French', 'text':'hello'})\n"
   ]
  },
  {
   "cell_type": "code",
   "execution_count": 40,
   "metadata": {},
   "outputs": [
    {
     "data": {
      "text/plain": [
       "[SystemMessage(content='Translate the following into French'),\n",
       " HumanMessage(content='hello')]"
      ]
     },
     "execution_count": 40,
     "metadata": {},
     "output_type": "execute_result"
    }
   ],
   "source": [
    "result.to_messages()"
   ]
  },
  {
   "cell_type": "code",
   "execution_count": 42,
   "metadata": {},
   "outputs": [
    {
     "data": {
      "text/plain": [
       "AIMessage(content='Bonjour \\n', response_metadata={'token_usage': {'completion_tokens': 5, 'prompt_tokens': 15, 'total_tokens': 20, 'completion_time': 0.009090909, 'prompt_time': 7.878e-05, 'queue_time': 0.013292176999999999, 'total_time': 0.009169689}, 'model_name': 'Gemma2-9b-it', 'system_fingerprint': 'fp_10c08bf97d', 'finish_reason': 'stop', 'logprobs': None}, id='run-52fb88c4-e00b-4ede-8b2d-c0dcf041c4db-0', usage_metadata={'input_tokens': 15, 'output_tokens': 5, 'total_tokens': 20})"
      ]
     },
     "execution_count": 42,
     "metadata": {},
     "output_type": "execute_result"
    }
   ],
   "source": [
    "model.invoke(result.to_messages())"
   ]
  },
  {
   "cell_type": "code",
   "execution_count": 45,
   "metadata": {},
   "outputs": [
    {
     "data": {
      "text/plain": [
       "'The French translation for \"How are you?\" depends on the level of formality:\\n\\n**Formal:**\\n\\n* **Comment allez-vous ?** (pronounced: koh-mahn ah-lay voo)\\n\\n**Informal:**\\n\\n* **Comment vas-tu ?** (pronounced: koh-mahn va-too) - used with someone you know well\\n* **Ça va ?** (pronounced: sah vah) - very casual, like \"What\\'s up?\"\\n\\nChoose the appropriate translation based on the context and your relationship with the person you are speaking to. \\n\\n\\n'"
      ]
     },
     "execution_count": 45,
     "metadata": {},
     "output_type": "execute_result"
    }
   ],
   "source": [
    "chain = prompt|model|parser\n",
    "\n",
    "answer = chain.invoke({'language': 'French', 'text' : 'How are you '})\n",
    "\n",
    "answer"
   ]
  },
  {
   "cell_type": "code",
   "execution_count": 46,
   "metadata": {},
   "outputs": [
    {
     "data": {
      "text/markdown": [
       "The French translation for \"How are you?\" depends on the level of formality:\n",
       "\n",
       "**Formal:**\n",
       "\n",
       "* **Comment allez-vous ?** (pronounced: koh-mahn ah-lay voo)\n",
       "\n",
       "**Informal:**\n",
       "\n",
       "* **Comment vas-tu ?** (pronounced: koh-mahn va-too) - used with someone you know well\n",
       "* **Ça va ?** (pronounced: sah vah) - very casual, like \"What's up?\"\n",
       "\n",
       "Choose the appropriate translation based on the context and your relationship with the person you are speaking to. \n",
       "\n",
       "\n"
      ],
      "text/plain": [
       "<IPython.core.display.Markdown object>"
      ]
     },
     "execution_count": 46,
     "metadata": {},
     "output_type": "execute_result"
    }
   ],
   "source": [
    "Markdown(answer)"
   ]
  },
  {
   "cell_type": "code",
   "execution_count": null,
   "metadata": {},
   "outputs": [],
   "source": []
  }
 ],
 "metadata": {
  "kernelspec": {
   "display_name": "Python 3",
   "language": "python",
   "name": "python3"
  },
  "language_info": {
   "codemirror_mode": {
    "name": "ipython",
    "version": 3
   },
   "file_extension": ".py",
   "mimetype": "text/x-python",
   "name": "python",
   "nbconvert_exporter": "python",
   "pygments_lexer": "ipython3",
   "version": "3.10.0"
  }
 },
 "nbformat": 4,
 "nbformat_minor": 2
}
