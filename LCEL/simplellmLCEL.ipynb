{
 "cells": [
  {
   "cell_type": "code",
   "execution_count": 1,
   "metadata": {},
   "outputs": [],
   "source": [
    "import os \n",
    "from dotenv import load_dotenv\n",
    "\n",
    "groq_api_key = os.getenv('GROQ_API_KEY')"
   ]
  },
  {
   "cell_type": "code",
   "execution_count": 2,
   "metadata": {},
   "outputs": [
    {
     "data": {
      "text/plain": [
       "ChatGroq(client=<groq.resources.chat.completions.Completions object at 0x000001BD2ED23370>, async_client=<groq.resources.chat.completions.AsyncCompletions object at 0x000001BD2ED22200>, model_name='Gemma2-9b-it')"
      ]
     },
     "execution_count": 2,
     "metadata": {},
     "output_type": "execute_result"
    }
   ],
   "source": [
    "from langchain_groq import ChatGroq\n",
    "model = ChatGroq(model=\"Gemma2-9b-it\" , groq_api_key = groq_api_key)\n",
    "\n",
    "model\n"
   ]
  },
  {
   "cell_type": "code",
   "execution_count": 3,
   "metadata": {},
   "outputs": [
    {
     "data": {
      "text/plain": [
       "AIMessage(content='## Deep Learning Explained:\\n\\nDeep learning is a subfield of machine learning that uses artificial neural networks with multiple layers (hence \"deep\") to learn complex patterns and representations from data. \\n\\n**Think of it like this:**\\n\\nImagine a child learning to identify a cat. They start by noticing simple features like pointy ears and whiskers. Then, they combine these features to understand broader concepts like \"furry\" and \"four-legged.\" Finally, they learn to recognize a cat as a whole based on all these learned features.\\n\\nDeep learning works similarly.\\n\\n**Here\\'s a breakdown:**\\n\\n1. **Data:** Deep learning models are trained on massive datasets. This data can be anything: images, text, audio, video, etc.\\n\\n2. **Artificial Neural Networks (ANNs):** These networks are inspired by the structure of the human brain, consisting of interconnected \"neurons\" organized in layers.\\n\\n3. **Layers:** Each layer in a deep learning model performs a specific transformation on the data. The first layers might detect simple features, while deeper layers learn more complex representations.\\n\\n4. **Learning:** During training, the model adjusts the \"weights\" of its connections based on the input data. The goal is to minimize the difference between the model\\'s predictions and the actual values.\\n\\n5. **Prediction:** Once trained, the model can use its learned representations to make predictions on new, unseen data.\\n\\n**Key Features of Deep Learning:**\\n\\n* **Feature Learning:** Deep learning models can automatically learn relevant features from raw data, eliminating the need for manual feature engineering.\\n* **Hierarchical Representation:** By stacking layers, deep learning models can learn hierarchical representations, capturing complex relationships within data.\\n* **Scalability:** Deep learning models can handle massive datasets and complex tasks.\\n\\n**Applications of Deep Learning:**\\n\\nDeep learning has revolutionized many fields, including:\\n\\n* **Computer Vision:** Image recognition, object detection, facial recognition\\n* **Natural Language Processing:** Machine translation, text summarization, sentiment analysis\\n* **Speech Recognition:** Voice assistants, automatic transcription\\n* **Healthcare:** Disease diagnosis, drug discovery\\n* **Finance:** Fraud detection, risk assessment\\n\\n**Challenges of Deep Learning:**\\n\\n* **Data Dependency:** Deep learning models require massive amounts of data to train effectively.\\n* **Computational Resources:** Training deep learning models can be computationally expensive and time-consuming.\\n* **Interpretability:** Deep learning models can be black boxes, making it difficult to understand how they make decisions.\\n\\n\\nOverall, deep learning is a powerful tool with the potential to solve complex problems and transform various industries.\\n', response_metadata={'token_usage': {'completion_tokens': 536, 'prompt_tokens': 12, 'total_tokens': 548, 'completion_time': 0.974545455, 'prompt_time': 7.786e-05, 'queue_time': 0.003883379, 'total_time': 0.974623315}, 'model_name': 'Gemma2-9b-it', 'system_fingerprint': 'fp_10c08bf97d', 'finish_reason': 'stop', 'logprobs': None}, id='run-293abd22-6d52-4c3f-ada1-461eb8fcb0f8-0', usage_metadata={'input_tokens': 12, 'output_tokens': 536, 'total_tokens': 548})"
      ]
     },
     "execution_count": 3,
     "metadata": {},
     "output_type": "execute_result"
    }
   ],
   "source": [
    "result = model.invoke('Explain Deep learning')\n",
    "result"
   ]
  },
  {
   "cell_type": "code",
   "execution_count": 4,
   "metadata": {},
   "outputs": [
    {
     "data": {
      "text/markdown": [
       "## Deep Learning Explained:\n",
       "\n",
       "Deep learning is a subfield of machine learning that uses artificial neural networks with multiple layers (hence \"deep\") to learn complex patterns and representations from data. \n",
       "\n",
       "**Think of it like this:**\n",
       "\n",
       "Imagine a child learning to identify a cat. They start by noticing simple features like pointy ears and whiskers. Then, they combine these features to understand broader concepts like \"furry\" and \"four-legged.\" Finally, they learn to recognize a cat as a whole based on all these learned features.\n",
       "\n",
       "Deep learning works similarly.\n",
       "\n",
       "**Here's a breakdown:**\n",
       "\n",
       "1. **Data:** Deep learning models are trained on massive datasets. This data can be anything: images, text, audio, video, etc.\n",
       "\n",
       "2. **Artificial Neural Networks (ANNs):** These networks are inspired by the structure of the human brain, consisting of interconnected \"neurons\" organized in layers.\n",
       "\n",
       "3. **Layers:** Each layer in a deep learning model performs a specific transformation on the data. The first layers might detect simple features, while deeper layers learn more complex representations.\n",
       "\n",
       "4. **Learning:** During training, the model adjusts the \"weights\" of its connections based on the input data. The goal is to minimize the difference between the model's predictions and the actual values.\n",
       "\n",
       "5. **Prediction:** Once trained, the model can use its learned representations to make predictions on new, unseen data.\n",
       "\n",
       "**Key Features of Deep Learning:**\n",
       "\n",
       "* **Feature Learning:** Deep learning models can automatically learn relevant features from raw data, eliminating the need for manual feature engineering.\n",
       "* **Hierarchical Representation:** By stacking layers, deep learning models can learn hierarchical representations, capturing complex relationships within data.\n",
       "* **Scalability:** Deep learning models can handle massive datasets and complex tasks.\n",
       "\n",
       "**Applications of Deep Learning:**\n",
       "\n",
       "Deep learning has revolutionized many fields, including:\n",
       "\n",
       "* **Computer Vision:** Image recognition, object detection, facial recognition\n",
       "* **Natural Language Processing:** Machine translation, text summarization, sentiment analysis\n",
       "* **Speech Recognition:** Voice assistants, automatic transcription\n",
       "* **Healthcare:** Disease diagnosis, drug discovery\n",
       "* **Finance:** Fraud detection, risk assessment\n",
       "\n",
       "**Challenges of Deep Learning:**\n",
       "\n",
       "* **Data Dependency:** Deep learning models require massive amounts of data to train effectively.\n",
       "* **Computational Resources:** Training deep learning models can be computationally expensive and time-consuming.\n",
       "* **Interpretability:** Deep learning models can be black boxes, making it difficult to understand how they make decisions.\n",
       "\n",
       "\n",
       "Overall, deep learning is a powerful tool with the potential to solve complex problems and transform various industries.\n"
      ],
      "text/plain": [
       "<IPython.core.display.Markdown object>"
      ]
     },
     "execution_count": 4,
     "metadata": {},
     "output_type": "execute_result"
    }
   ],
   "source": [
    "from IPython.display import Markdown\n",
    "Markdown(result.content)"
   ]
  },
  {
   "cell_type": "code",
   "execution_count": 31,
   "metadata": {},
   "outputs": [],
   "source": [
    "from langchain_core.messages import HumanMessage, SystemMessage\n",
    "\n",
    "messages = [\n",
    "    SystemMessage(content=\"Translate the following from english to French\"),\n",
    "    HumanMessage(content=\"Hello How are you?\")\n",
    "]\n",
    "\n",
    "\n",
    "result = model.invoke(messages)\n"
   ]
  },
  {
   "cell_type": "code",
   "execution_count": 32,
   "metadata": {},
   "outputs": [
    {
     "data": {
      "text/plain": [
       "AIMessage(content='Here are a few ways to say \"Hello, how are you?\" in French:\\n\\n* **Bonjour, comment allez-vous ?** (Formal)\\n* **Salut, comment vas-tu ?** (Informal, to someone you know well)\\n* **Coucou, ça va ?** (Very informal, to someone you\\'re close to)\\n\\n\\nLet me know if you\\'d like to see more options or variations!\\n', response_metadata={'token_usage': {'completion_tokens': 91, 'prompt_tokens': 21, 'total_tokens': 112, 'completion_time': 0.165454545, 'prompt_time': 0.00014764, 'queue_time': 0.014216050000000001, 'total_time': 0.165602185}, 'model_name': 'Gemma2-9b-it', 'system_fingerprint': 'fp_10c08bf97d', 'finish_reason': 'stop', 'logprobs': None}, id='run-ad4ac2bc-e961-4d7b-b56d-a591c045ceb0-0', usage_metadata={'input_tokens': 21, 'output_tokens': 91, 'total_tokens': 112})"
      ]
     },
     "execution_count": 32,
     "metadata": {},
     "output_type": "execute_result"
    }
   ],
   "source": [
    "result "
   ]
  },
  {
   "cell_type": "code",
   "execution_count": 33,
   "metadata": {},
   "outputs": [
    {
     "data": {
      "text/plain": [
       "'Here are a few ways to say \"Hello, how are you?\" in French:\\n\\n* **Bonjour, comment allez-vous ?** (Formal)\\n* **Salut, comment vas-tu ?** (Informal, to someone you know well)\\n* **Coucou, ça va ?** (Very informal, to someone you\\'re close to)\\n\\n\\nLet me know if you\\'d like to see more options or variations!\\n'"
      ]
     },
     "execution_count": 33,
     "metadata": {},
     "output_type": "execute_result"
    }
   ],
   "source": [
    "from langchain_core.output_parsers import StrOutputParser\n",
    "parser = StrOutputParser()\n",
    "\n",
    "parser.invoke(result)"
   ]
  },
  {
   "cell_type": "code",
   "execution_count": 34,
   "metadata": {},
   "outputs": [
    {
     "data": {
      "text/markdown": [
       "Here are a few ways to say \"Hello, how are you?\" in French:\n",
       "\n",
       "* **Bonjour, comment allez-vous ?** (Formal)\n",
       "* **Salut, comment vas-tu ?** (Informal, to someone you know well)\n",
       "* **Coucou, ça va ?** (Very informal, to someone you're close to)\n",
       "\n",
       "\n",
       "Let me know if you'd like to see more options or variations!\n"
      ],
      "text/plain": [
       "<IPython.core.display.Markdown object>"
      ]
     },
     "execution_count": 34,
     "metadata": {},
     "output_type": "execute_result"
    }
   ],
   "source": [
    "Markdown(result.content)"
   ]
  },
  {
   "cell_type": "code",
   "execution_count": 35,
   "metadata": {},
   "outputs": [
    {
     "data": {
      "text/plain": [
       "'Here are a couple of ways to say \"Hello, how are you?\" in French:\\n\\n* **Bonjour, comment allez-vous ?** (Formal)\\n* **Salut, comment vas-tu ?** (Informal) \\n\\n\\nLet me know if you\\'d like to see other variations!\\n'"
      ]
     },
     "execution_count": 35,
     "metadata": {},
     "output_type": "execute_result"
    }
   ],
   "source": [
    "chain = model|parser\n",
    "\n",
    "chain.invoke(messages)"
   ]
  },
  {
   "cell_type": "code",
   "execution_count": 36,
   "metadata": {},
   "outputs": [],
   "source": [
    "from langchain_core.prompts import ChatPromptTemplate\n",
    "\n",
    "generic_template = \"Translate the following into {language}\"\n",
    "\n",
    "prompt = ChatPromptTemplate.from_messages([\n",
    "    ('system',generic_template),\n",
    "    ('user', '{text}')\n",
    "]\n",
    ")"
   ]
  },
  {
   "cell_type": "code",
   "execution_count": 39,
   "metadata": {},
   "outputs": [],
   "source": [
    "result = prompt.invoke({\"language\":'French', 'text':'hello'})\n"
   ]
  },
  {
   "cell_type": "code",
   "execution_count": 40,
   "metadata": {},
   "outputs": [
    {
     "data": {
      "text/plain": [
       "[SystemMessage(content='Translate the following into French'),\n",
       " HumanMessage(content='hello')]"
      ]
     },
     "execution_count": 40,
     "metadata": {},
     "output_type": "execute_result"
    }
   ],
   "source": [
    "result.to_messages()"
   ]
  },
  {
   "cell_type": "code",
   "execution_count": 42,
   "metadata": {},
   "outputs": [
    {
     "data": {
      "text/plain": [
       "AIMessage(content='Bonjour \\n', response_metadata={'token_usage': {'completion_tokens': 5, 'prompt_tokens': 15, 'total_tokens': 20, 'completion_time': 0.009090909, 'prompt_time': 7.878e-05, 'queue_time': 0.013292176999999999, 'total_time': 0.009169689}, 'model_name': 'Gemma2-9b-it', 'system_fingerprint': 'fp_10c08bf97d', 'finish_reason': 'stop', 'logprobs': None}, id='run-52fb88c4-e00b-4ede-8b2d-c0dcf041c4db-0', usage_metadata={'input_tokens': 15, 'output_tokens': 5, 'total_tokens': 20})"
      ]
     },
     "execution_count": 42,
     "metadata": {},
     "output_type": "execute_result"
    }
   ],
   "source": [
    "model.invoke(result.to_messages())"
   ]
  },
  {
   "cell_type": "code",
   "execution_count": 45,
   "metadata": {},
   "outputs": [
    {
     "data": {
      "text/plain": [
       "'The French translation for \"How are you?\" depends on the level of formality:\\n\\n**Formal:**\\n\\n* **Comment allez-vous ?** (pronounced: koh-mahn ah-lay voo)\\n\\n**Informal:**\\n\\n* **Comment vas-tu ?** (pronounced: koh-mahn va-too) - used with someone you know well\\n* **Ça va ?** (pronounced: sah vah) - very casual, like \"What\\'s up?\"\\n\\nChoose the appropriate translation based on the context and your relationship with the person you are speaking to. \\n\\n\\n'"
      ]
     },
     "execution_count": 45,
     "metadata": {},
     "output_type": "execute_result"
    }
   ],
   "source": [
    "chain = prompt|model|parser\n",
    "\n",
    "answer = chain.invoke({'language': 'French', 'text' : 'How are you '})\n",
    "\n",
    "answer"
   ]
  },
  {
   "cell_type": "code",
   "execution_count": 46,
   "metadata": {},
   "outputs": [
    {
     "data": {
      "text/markdown": [
       "The French translation for \"How are you?\" depends on the level of formality:\n",
       "\n",
       "**Formal:**\n",
       "\n",
       "* **Comment allez-vous ?** (pronounced: koh-mahn ah-lay voo)\n",
       "\n",
       "**Informal:**\n",
       "\n",
       "* **Comment vas-tu ?** (pronounced: koh-mahn va-too) - used with someone you know well\n",
       "* **Ça va ?** (pronounced: sah vah) - very casual, like \"What's up?\"\n",
       "\n",
       "Choose the appropriate translation based on the context and your relationship with the person you are speaking to. \n",
       "\n",
       "\n"
      ],
      "text/plain": [
       "<IPython.core.display.Markdown object>"
      ]
     },
     "execution_count": 46,
     "metadata": {},
     "output_type": "execute_result"
    }
   ],
   "source": [
    "Markdown(answer)"
   ]
  },
  {
   "cell_type": "code",
   "execution_count": null,
   "metadata": {},
   "outputs": [],
   "source": []
  }
 ],
 "metadata": {
  "kernelspec": {
   "display_name": "Python 3",
   "language": "python",
   "name": "python3"
  },
  "language_info": {
   "codemirror_mode": {
    "name": "ipython",
    "version": 3
   },
   "file_extension": ".py",
   "mimetype": "text/x-python",
   "name": "python",
   "nbconvert_exporter": "python",
   "pygments_lexer": "ipython3",
   "version": "3.10.0"
  }
 },
 "nbformat": 4,
 "nbformat_minor": 2
}
